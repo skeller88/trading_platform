{
 "cells": [
  {
   "cell_type": "code",
   "execution_count": 5,
   "metadata": {},
   "outputs": [],
   "source": [
    "import os\n",
    "import sys\n",
    "import pandas as pd\n",
    "\n",
    "from trading_platform.core.services.file_service import FileService"
   ]
  },
  {
   "cell_type": "code",
   "execution_count": 84,
   "metadata": {},
   "outputs": [],
   "source": [
    "def group_by_freq(self, input_dir, output_dir, windows_per_file: 60, freq='min'):\n",
    "    \"\"\"\n",
    "    Group ticker files by frequency and write to csv.\n",
    "    \"\"\"\n",
    "    self.file_service.create_dir_if_null(output_dir)\n",
    "    glob_path = os.path.join(input_dir, '**', '*ticker*.csv')\n",
    "    ticker_filenames: List[str] = glob.glob(glob_path, recursive=True)\n",
    "\n",
    "    windows_added: int = 0\n",
    "    ticker_dfs: List[pandas.DataFrame] = []\n",
    "\n",
    "    for ticker_filename in ticker_filenames:\n",
    "        if windows_added < windows_per_file:\n",
    "            ticker_df = TickerEtlService.read_csv(ticker_filename, True)\n",
    "            if ticker_df is not None:\n",
    "                ticker_dfs.append(ticker_df)\n",
    "            windows_added += 1\n",
    "        else:\n",
    "            if len(ticker_dfs) > 0:\n",
    "                ticker_grouped_df: pandas.DataFrame = pandas.concat(ticker_dfs)\n",
    "                ticker_grouped_df = ticker_grouped_df.groupby(pandas.Grouper(key='app_create_timestamp', freq=freq))\n",
    "                earliest_window: str = ticker_grouped_df.index[0]\n",
    "\n",
    "                ticker_grouped_df.to_csv(os.path.join(output_dir, 'ticker_agg_{0}'.format(earliest_window)))\n",
    "\n",
    "            windows_added = 0\n",
    "            ticker_dfs = []\n",
    "\n",
    "relative_dir: str = 'trading_platform/notebooks'            \n",
    "# input_dir: str = os.path.dirname(__file__).replace(relative_dir, 'trading_system_data/tickers/raw')\n",
    "# output_dir: str = os.path.dirname(__file__).replace(relative_dir, 'trading_system_data/tickers/grouped')\n",
    "# group_by_freq(self, input_dir, output_dir, windows_per_file: 60, freq='min')\n",
    "\n",
    "def read_csv(filename, parse_dates: bool):\n",
    "    try:\n",
    "        if parse_dates:\n",
    "            def second_parser(arg):\n",
    "                return pandas.to_datetime(arg=arg, unit='s')\n",
    "\n",
    "            return pandas.read_csv(filename, date_parser=second_parser, parse_dates=['app_create_timestamp'])\n",
    "        else:\n",
    "            return pandas.read_csv(filename)\n",
    "    # Happens if .csv file is empty\n",
    "    except EmptyDataError:\n",
    "        return\n",
    "df = pd.concat([\n",
    "    read_csv('/Users/shanekeller/Documents/trading_system_data/tickers/standardized/ticker_v5_2018-07-19T21:16.csv', True),\n",
    "    read_csv('/Users/shanekeller/Documents/trading_system_data/tickers/standardized/ticker_v5_2018-07-19T21:17.csv', True)\n",
    "])\n",
    "df['app_create_timestamp_min']=df['app_create_timestamp'].dt.round('min')\n",
    "df.set_index('app_create_timestamp_min', inplace=True)"
   ]
  },
  {
   "cell_type": "code",
   "execution_count": 102,
   "metadata": {},
   "outputs": [
    {
     "data": {
      "text/plain": [
       "{'ask': 3.0399999999999987e-05,\n",
       " 'bid': 3.0200000000000012e-05,\n",
       " 'last': 3.02e-05,\n",
       " 'base_volume': 12317.42002664,\n",
       " 'quote_volume': 0.3707227500000002,\n",
       " 'base': 'BTC',\n",
       " 'quote': 'CURE',\n",
       " 'exchange_id': 1,\n",
       " 'exchange_timestamp': 1532035060055,\n",
       " 'app_create_timestamp': Timestamp('2018-07-19 21:17:45.659953833'),\n",
       " 'db_id': None,\n",
       " 'db_create_timestamp': None,\n",
       " 'db_update_timestamp': None,\n",
       " 'version': 5}"
      ]
     },
     "execution_count": 102,
     "metadata": {},
     "output_type": "execute_result"
    }
   ],
   "source": [
    "from trading_platform.exchanges.data.ticker import Ticker\n",
    "from typing import List, Dict\n",
    "\n",
    "latest_tickers_df = df[df.exchange_id == 1]\n",
    "tickers: Dict[str, Ticker] = {'{0}_{1}'.format(row['quote'], row['base']): Ticker(**row) for row in\n",
    "                              latest_tickers_df.to_dict(orient='records')}\n",
    "\n",
    "\n",
    "tickers['CURE_BTC'].__dict__\n",
    "# dt_idx = pandas.date_range('20180718', '20180720', freq='min')\n",
    "\n",
    "# nt = df.loc[name]\n",
    "# nt[(nt.exchange_id == 1)]\n",
    "# for idx in dt_idx:\n",
    "#     if name == idx:\n",
    "#         for row in df.loc[name].iterrows():"
   ]
  }
 ],
 "metadata": {
  "kernelspec": {
   "display_name": "Python 3",
   "language": "python",
   "name": "python3"
  },
  "language_info": {
   "codemirror_mode": {
    "name": "ipython",
    "version": 3
   },
   "file_extension": ".py",
   "mimetype": "text/x-python",
   "name": "python",
   "nbconvert_exporter": "python",
   "pygments_lexer": "ipython3",
   "version": "3.6.6"
  }
 },
 "nbformat": 4,
 "nbformat_minor": 2
}
