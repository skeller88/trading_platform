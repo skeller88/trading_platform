{
 "cells": [
  {
   "cell_type": "code",
   "execution_count": 5,
   "metadata": {},
   "outputs": [],
   "source": [
    "import os\n",
    "import sys\n",
    "import pandas as pd\n",
    "\n",
    "from trading_platform.core.services.file_service import FileService"
   ]
  },
  {
   "cell_type": "code",
   "execution_count": 103,
   "metadata": {},
   "outputs": [],
   "source": [
    "def group_by_freq(self, input_dir, output_dir, windows_per_file: 60, freq='min'):\n",
    "    \"\"\"\n",
    "    Group ticker files by frequency and write to csv.\n",
    "    \"\"\"\n",
    "    self.file_service.create_dir_if_null(output_dir)\n",
    "    glob_path = os.path.join(input_dir, '**', '*ticker*.csv')\n",
    "    ticker_filenames: List[str] = glob.glob(glob_path, recursive=True)\n",
    "\n",
    "    windows_added: int = 0\n",
    "    ticker_dfs: List[pandas.DataFrame] = []\n",
    "\n",
    "    for ticker_filename in ticker_filenames:\n",
    "        if windows_added < windows_per_file:\n",
    "            ticker_df = TickerEtlService.read_csv(ticker_filename, True)\n",
    "            if ticker_df is not None:\n",
    "                ticker_dfs.append(ticker_df)\n",
    "            windows_added += 1\n",
    "        else:\n",
    "            if len(ticker_dfs) > 0:\n",
    "                ticker_grouped_df: pandas.DataFrame = pandas.concat(ticker_dfs)\n",
    "                ticker_grouped_df = ticker_grouped_df.groupby(pandas.Grouper(key='app_create_timestamp', freq=freq))\n",
    "                earliest_window: str = ticker_grouped_df.index[0]\n",
    "\n",
    "                ticker_grouped_df.to_csv(os.path.join(output_dir, 'ticker_agg_{0}'.format(earliest_window)))\n",
    "\n",
    "            windows_added = 0\n",
    "            ticker_dfs = []\n",
    "\n",
    "relative_dir: str = 'trading_platform/notebooks'            \n",
    "# input_dir: str = os.path.dirname(__file__).replace(relative_dir, 'trading_system_data/tickers/raw')\n",
    "# output_dir: str = os.path.dirname(__file__).replace(relative_dir, 'trading_system_data/tickers/grouped')\n",
    "# group_by_freq(self, input_dir, output_dir, windows_per_file: 60, freq='min')\n",
    "\n",
    "def read_csv(filename, parse_dates: bool):\n",
    "    try:\n",
    "        if parse_dates:\n",
    "            def second_parser(arg):\n",
    "                return pandas.to_datetime(arg=arg, unit='s')\n",
    "\n",
    "            return pandas.read_csv(filename, date_parser=second_parser, parse_dates=['app_create_timestamp'])\n",
    "        else:\n",
    "            return pandas.read_csv(filename)\n",
    "    # Happens if .csv file is empty\n",
    "    except EmptyDataError:\n",
    "        return\n",
    "df = pd.concat([\n",
    "    read_csv('/Users/shanekeller/Documents/trading_system_data/tickers/standardized/ticker_v5_2018-07-19T21:16.csv', True),\n",
    "    read_csv('/Users/shanekeller/Documents/trading_system_data/tickers/standardized/ticker_v5_2018-07-19T21:17.csv', True)\n",
    "])\n",
    "df['app_create_timestamp_min']=df['app_create_timestamp'].dt.round('min')\n",
    "df.set_index('app_create_timestamp_min', inplace=True)"
   ]
  },
  {
   "cell_type": "code",
   "execution_count": 106,
   "metadata": {},
   "outputs": [
    {
     "name": "stderr",
     "output_type": "stream",
     "text": [
      "/Users/shanekeller/anaconda/envs/arbitrage/lib/python3.6/site-packages/IPython/core/interactiveshell.py:2785: DtypeWarning: Columns (8) have mixed types. Specify dtype option on import or set low_memory=False.\n",
      "  interactivity=interactivity, compiler=compiler, result=result)\n"
     ]
    }
   ],
   "source": [
    "from trading_platform.exchanges.data.ticker import Ticker\n",
    "from typing import List, Dict\n",
    "\n",
    "df = pd.read_csv('/Users/shanekeller/Documents/trading_system_data/tickers/aggregated/minute/ticker_agg_2018-01-25 19:27:16.923967')\n",
    "# latest_tickers_df = df[df.exchange_id == 1]\n",
    "# tickers: Dict[str, Ticker] = {'{0}_{1}'.format(row['quote'], row['base']): Ticker(**row) for row in\n",
    "#                               latest_tickers_df.to_dict(orient='records')}\n",
    "\n",
    "\n",
    "# tickers['CURE_BTC'].__dict__\n",
    "# dt_idx = pandas.date_range('20180718', '20180720', freq='min')\n",
    "\n",
    "# nt = df.loc[name]\n",
    "# nt[(nt.exchange_id == 1)]\n",
    "# for idx in dt_idx:\n",
    "#     if name == idx:\n",
    "#         for row in df.loc[name].iterrows():"
   ]
  },
  {
   "cell_type": "code",
   "execution_count": 108,
   "metadata": {},
   "outputs": [
    {
     "data": {
      "text/plain": [
       "0         2018-01-25 19:27:16.923967\n",
       "1         2018-01-25 19:27:16.980048\n",
       "2         2018-01-25 19:27:16.980093\n",
       "3         2018-01-25 19:27:16.980132\n",
       "4         2018-01-25 19:27:16.980167\n",
       "5         2018-01-25 19:27:16.980211\n",
       "6         2018-01-25 19:27:16.980256\n",
       "7         2018-01-25 19:27:16.980295\n",
       "8         2018-01-25 19:27:16.980334\n",
       "9         2018-01-25 19:27:16.980373\n",
       "10        2018-01-25 19:27:16.980410\n",
       "11        2018-01-25 19:27:16.980449\n",
       "12        2018-01-25 19:27:16.980488\n",
       "13        2018-01-25 19:27:16.980526\n",
       "14        2018-01-25 19:27:16.980564\n",
       "15        2018-01-25 19:27:16.980601\n",
       "16        2018-01-25 19:27:16.980639\n",
       "17        2018-01-25 19:27:16.980679\n",
       "18        2018-01-25 19:27:16.980715\n",
       "19        2018-01-25 19:27:16.980753\n",
       "20        2018-01-25 19:27:16.980791\n",
       "21        2018-01-25 19:27:16.980828\n",
       "22        2018-01-25 19:27:16.980870\n",
       "23        2018-01-25 19:27:16.980909\n",
       "24        2018-01-25 19:27:16.980956\n",
       "25        2018-01-25 19:27:16.981002\n",
       "26        2018-01-25 19:27:16.981043\n",
       "27        2018-01-25 19:27:16.981083\n",
       "28        2018-01-25 19:27:16.981121\n",
       "29        2018-01-25 19:27:16.981158\n",
       "                     ...            \n",
       "2187885   2018-02-01 21:32:19.396874\n",
       "2187886   2018-02-01 21:32:19.396920\n",
       "2187887   2018-02-01 21:32:19.396959\n",
       "2187888   2018-02-01 21:32:19.396997\n",
       "2187889   2018-02-01 21:32:19.397035\n",
       "2187890   2018-02-01 21:32:19.397072\n",
       "2187891   2018-02-01 21:32:19.397112\n",
       "2187892   2018-02-01 21:32:19.397151\n",
       "2187893   2018-02-01 21:32:19.397188\n",
       "2187894   2018-02-01 21:32:19.397225\n",
       "2187895   2018-02-01 21:32:19.397262\n",
       "2187896   2018-02-01 21:32:19.397300\n",
       "2187897   2018-02-01 21:32:19.397339\n",
       "2187898   2018-02-01 21:32:19.397377\n",
       "2187899   2018-02-01 21:32:19.397416\n",
       "2187900   2018-02-01 21:32:19.397454\n",
       "2187901   2018-02-01 21:32:19.397491\n",
       "2187902   2018-02-01 21:32:19.397531\n",
       "2187903   2018-02-01 21:32:19.397568\n",
       "2187904   2018-02-01 21:32:19.397605\n",
       "2187905   2018-02-01 21:32:19.397642\n",
       "2187906   2018-02-01 21:32:19.397679\n",
       "2187907   2018-02-01 21:32:19.397716\n",
       "2187908   2018-02-01 21:32:19.397755\n",
       "2187909   2018-02-01 21:32:19.397792\n",
       "2187910   2018-02-01 21:32:19.397830\n",
       "2187911   2018-02-01 21:32:19.397866\n",
       "2187912   2018-02-01 21:32:19.397903\n",
       "2187913   2018-02-01 21:32:19.397941\n",
       "2187914   2018-02-01 21:32:19.397978\n",
       "Name: app_create_timestamp, Length: 2187915, dtype: datetime64[ns]"
      ]
     },
     "execution_count": 108,
     "metadata": {},
     "output_type": "execute_result"
    }
   ],
   "source": [
    "df['app_create_timestamp'])"
   ]
  }
 ],
 "metadata": {
  "kernelspec": {
   "display_name": "Python 3",
   "language": "python",
   "name": "python3"
  },
  "language_info": {
   "codemirror_mode": {
    "name": "ipython",
    "version": 3
   },
   "file_extension": ".py",
   "mimetype": "text/x-python",
   "name": "python",
   "nbconvert_exporter": "python",
   "pygments_lexer": "ipython3",
   "version": "3.6.6"
  }
 },
 "nbformat": 4,
 "nbformat_minor": 2
}
